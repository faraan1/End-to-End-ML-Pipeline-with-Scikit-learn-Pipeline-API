{
 "cells": [
  {
   "cell_type": "code",
   "execution_count": 14,
   "metadata": {},
   "outputs": [],
   "source": [
    "import pandas as pd\n",
    "from sklearn.model_selection import train_test_split,GridSearchCV\n",
    "from sklearn.pipeline import Pipeline\n",
    "from sklearn.compose import ColumnTransformer\n",
    "from sklearn.preprocessing import StandardScaler,OneHotEncoder\n",
    "from sklearn.linear_model import LogisticRegression\n",
    "from sklearn.ensemble import RandomForestClassifier\n",
    "from sklearn.metrics import classification_report,accuracy_score,roc_auc_score\n",
    "import joblib"
   ]
  },
  {
   "cell_type": "code",
   "execution_count": 2,
   "metadata": {},
   "outputs": [
    {
     "name": "stdout",
     "output_type": "stream",
     "text": [
      "🔥 Dataset Shape: (7043, 21)\n",
      "\n",
      "📊 First 5 Rows:\n",
      "   customerID  gender  SeniorCitizen Partner Dependents  tenure PhoneService  \\\n",
      "0  7590-VHVEG  Female              0     Yes         No       1           No   \n",
      "1  5575-GNVDE    Male              0      No         No      34          Yes   \n",
      "2  3668-QPYBK    Male              0      No         No       2          Yes   \n",
      "3  7795-CFOCW    Male              0      No         No      45           No   \n",
      "4  9237-HQITU  Female              0      No         No       2          Yes   \n",
      "\n",
      "      MultipleLines InternetService OnlineSecurity  ... DeviceProtection  \\\n",
      "0  No phone service             DSL             No  ...               No   \n",
      "1                No             DSL            Yes  ...              Yes   \n",
      "2                No             DSL            Yes  ...               No   \n",
      "3  No phone service             DSL            Yes  ...              Yes   \n",
      "4                No     Fiber optic             No  ...               No   \n",
      "\n",
      "  TechSupport StreamingTV StreamingMovies        Contract PaperlessBilling  \\\n",
      "0          No          No              No  Month-to-month              Yes   \n",
      "1          No          No              No        One year               No   \n",
      "2          No          No              No  Month-to-month              Yes   \n",
      "3         Yes          No              No        One year               No   \n",
      "4          No          No              No  Month-to-month              Yes   \n",
      "\n",
      "               PaymentMethod MonthlyCharges  TotalCharges Churn  \n",
      "0           Electronic check          29.85         29.85    No  \n",
      "1               Mailed check          56.95        1889.5    No  \n",
      "2               Mailed check          53.85        108.15   Yes  \n",
      "3  Bank transfer (automatic)          42.30       1840.75    No  \n",
      "4           Electronic check          70.70        151.65   Yes  \n",
      "\n",
      "[5 rows x 21 columns]\n",
      "\n",
      "🧾 Data Info (dtypes, missing values):\n",
      "<class 'pandas.core.frame.DataFrame'>\n",
      "RangeIndex: 7043 entries, 0 to 7042\n",
      "Data columns (total 21 columns):\n",
      " #   Column            Non-Null Count  Dtype  \n",
      "---  ------            --------------  -----  \n",
      " 0   customerID        7043 non-null   object \n",
      " 1   gender            7043 non-null   object \n",
      " 2   SeniorCitizen     7043 non-null   int64  \n",
      " 3   Partner           7043 non-null   object \n",
      " 4   Dependents        7043 non-null   object \n",
      " 5   tenure            7043 non-null   int64  \n",
      " 6   PhoneService      7043 non-null   object \n",
      " 7   MultipleLines     7043 non-null   object \n",
      " 8   InternetService   7043 non-null   object \n",
      " 9   OnlineSecurity    7043 non-null   object \n",
      " 10  OnlineBackup      7043 non-null   object \n",
      " 11  DeviceProtection  7043 non-null   object \n",
      " 12  TechSupport       7043 non-null   object \n",
      " 13  StreamingTV       7043 non-null   object \n",
      " 14  StreamingMovies   7043 non-null   object \n",
      " 15  Contract          7043 non-null   object \n",
      " 16  PaperlessBilling  7043 non-null   object \n",
      " 17  PaymentMethod     7043 non-null   object \n",
      " 18  MonthlyCharges    7043 non-null   float64\n",
      " 19  TotalCharges      7043 non-null   object \n",
      " 20  Churn             7043 non-null   object \n",
      "dtypes: float64(1), int64(2), object(18)\n",
      "memory usage: 1.1+ MB\n",
      "None\n"
     ]
    }
   ],
   "source": [
    "url = \"https://raw.githubusercontent.com/IBM/telco-customer-churn-on-icp4d/master/data/Telco-Customer-Churn.csv\"\n",
    "df = pd.read_csv(url)\n",
    "print(\"🔥 Dataset Shape:\", df.shape)\n",
    "print(\"\\n📊 First 5 Rows:\")\n",
    "print(df.head())\n",
    "\n",
    "print(\"\\n🧾 Data Info (dtypes, missing values):\")\n",
    "print(df.info())"
   ]
  },
  {
   "cell_type": "code",
   "execution_count": 3,
   "metadata": {},
   "outputs": [
    {
     "name": "stdout",
     "output_type": "stream",
     "text": [
      "(7032, 20)\n",
      "   gender  SeniorCitizen Partner Dependents  tenure PhoneService  \\\n",
      "0  Female              0     Yes         No       1           No   \n",
      "1    Male              0      No         No      34          Yes   \n",
      "2    Male              0      No         No       2          Yes   \n",
      "\n",
      "      MultipleLines InternetService OnlineSecurity OnlineBackup  \\\n",
      "0  No phone service             DSL             No          Yes   \n",
      "1                No             DSL            Yes           No   \n",
      "2                No             DSL            Yes          Yes   \n",
      "\n",
      "  DeviceProtection TechSupport StreamingTV StreamingMovies        Contract  \\\n",
      "0               No          No          No              No  Month-to-month   \n",
      "1              Yes          No          No              No        One year   \n",
      "2               No          No          No              No  Month-to-month   \n",
      "\n",
      "  PaperlessBilling     PaymentMethod  MonthlyCharges  TotalCharges  Churn  \n",
      "0              Yes  Electronic check           29.85         29.85      0  \n",
      "1               No      Mailed check           56.95       1889.50      0  \n",
      "2              Yes      Mailed check           53.85        108.15      1  \n"
     ]
    }
   ],
   "source": [
    "df['TotalCharges']=pd.to_numeric(df['TotalCharges'],errors=\"coerce\")\n",
    "df.dropna(inplace=True)\n",
    "df.drop('customerID',axis=1,inplace=True)\n",
    "df['Churn']=df['Churn'].map({'Yes':1,'No':0})\n",
    "print(df.shape)\n",
    "print(df.head(3))"
   ]
  },
  {
   "cell_type": "code",
   "execution_count": 4,
   "metadata": {},
   "outputs": [
    {
     "name": "stdout",
     "output_type": "stream",
     "text": [
      "(4922, 19) (2110, 19)\n",
      "Churn\n",
      "0    73.4%\n",
      "1    26.6%\n",
      "Name: proportion, dtype: object\n"
     ]
    }
   ],
   "source": [
    "x=df.drop('Churn',axis=1)\n",
    "y=df['Churn']\n",
    "x_train,x_test,y_train,y_test=train_test_split(x,y,test_size=0.3,random_state=42,stratify=y)\n",
    "print(x_train.shape,x_test.shape)\n",
    "print(y_train.value_counts(normalize=True).map(lambda x: f\"{x:.1%}\"))"
   ]
  },
  {
   "cell_type": "code",
   "execution_count": 9,
   "metadata": {},
   "outputs": [
    {
     "name": "stdout",
     "output_type": "stream",
     "text": [
      "['SeniorCitizen', 'tenure', 'MonthlyCharges', 'TotalCharges']\n",
      "['gender', 'Partner', 'Dependents', 'PhoneService', 'MultipleLines', 'InternetService', 'OnlineSecurity', 'OnlineBackup', 'DeviceProtection', 'TechSupport', 'StreamingTV', 'StreamingMovies', 'Contract', 'PaperlessBilling', 'PaymentMethod']\n"
     ]
    }
   ],
   "source": [
    "numerical_features=x.select_dtypes(include=['int64','float64']).columns.tolist()\n",
    "categorical_features = x.select_dtypes(include=['object']).columns.tolist()\n",
    "print(numerical_features)\n",
    "print(categorical_features)"
   ]
  },
  {
   "cell_type": "code",
   "execution_count": 10,
   "metadata": {},
   "outputs": [],
   "source": [
    "preprocessor=ColumnTransformer(\n",
    "    transformers=[('num',StandardScaler(),numerical_features),\n",
    "                  ('cat',OneHotEncoder(),categorical_features)],\n",
    "                  remainder='passthrough'\n",
    ")"
   ]
  },
  {
   "cell_type": "code",
   "execution_count": 19,
   "metadata": {},
   "outputs": [
    {
     "name": "stdout",
     "output_type": "stream",
     "text": [
      "Random forest performance\n",
      "              precision    recall  f1-score   support\n",
      "\n",
      "           0       0.85      0.89      0.87      1549\n",
      "           1       0.66      0.57      0.61       561\n",
      "\n",
      "    accuracy                           0.81      2110\n",
      "   macro avg       0.75      0.73      0.74      2110\n",
      "weighted avg       0.80      0.81      0.80      2110\n",
      "\n"
     ]
    }
   ],
   "source": [
    "model_pipeline=Pipeline([\n",
    "    ('preprocessor',preprocessor),\n",
    "    ('classifier',LogisticRegression(random_state=42,max_iter=1000))\n",
    "])\n",
    "\n",
    "#Training\n",
    "model_pipeline.fit(x_train,y_train)\n",
    "\n",
    "#Evaluate\n",
    "y_pred_lr=model_pipeline.predict(x_test)\n",
    "print(\"Random forest performance\")\n",
    "print(classification_report(y_test,y_pred_lr))"
   ]
  },
  {
   "cell_type": "code",
   "execution_count": 13,
   "metadata": {},
   "outputs": [
    {
     "name": "stdout",
     "output_type": "stream",
     "text": [
      "Random forest performance\n",
      "              precision    recall  f1-score   support\n",
      "\n",
      "           0       0.82      0.89      0.86      1549\n",
      "           1       0.61      0.47      0.53       561\n",
      "\n",
      "    accuracy                           0.78      2110\n",
      "   macro avg       0.72      0.68      0.69      2110\n",
      "weighted avg       0.77      0.78      0.77      2110\n",
      "\n"
     ]
    }
   ],
   "source": [
    "rf_pipeline=Pipeline([\n",
    "    ('preprocessor',preprocessor),\n",
    "    ('classifier',RandomForestClassifier(random_state=42))\n",
    "])\n",
    "\n",
    "#Training\n",
    "rf_pipeline.fit(x_train,y_train)\n",
    "\n",
    "#Evaluate\n",
    "y_pred_rf=rf_pipeline.predict(x_test)\n",
    "print(\"Random forest performance\")\n",
    "print(classification_report(y_test,y_pred_rf))"
   ]
  },
  {
   "cell_type": "code",
   "execution_count": 20,
   "metadata": {},
   "outputs": [
    {
     "name": "stdout",
     "output_type": "stream",
     "text": [
      "📊 Model Comparison\n",
      "Logistic Regression AUC: 0.8379, Accuracy: 0.8062\n",
      "Random Forest AUC:      0.6796, Accuracy: 0.7791\n"
     ]
    }
   ],
   "source": [
    "#Logistic Regression\n",
    "y_pred_lr=model_pipeline.predict(x_test)\n",
    "y_pred_proba_lr=model_pipeline.predict_proba(x_test)[:,1]\n",
    "# Random Forest\n",
    "y_pred_rf = rf_pipeline.predict(x_test)\n",
    "y_pred_proba_rf = rf_pipeline.predict_proba(x_test)[:, 1]\n",
    "\n",
    "# AUC scores\n",
    "auc_lr = roc_auc_score(y_test, y_pred_proba_lr)\n",
    "auc_rf = roc_auc_score(y_test, y_pred_rf)\n",
    "\n",
    "print(\"📊 Model Comparison\")\n",
    "print(f\"Logistic Regression AUC: {auc_lr:.4f}, Accuracy: {accuracy_score(y_test, y_pred_lr):.4f}\")\n",
    "print(f\"Random Forest AUC:      {auc_rf:.4f}, Accuracy: {accuracy_score(y_test, y_pred_rf):.4f}\")"
   ]
  },
  {
   "cell_type": "code",
   "execution_count": 23,
   "metadata": {},
   "outputs": [
    {
     "name": "stdout",
     "output_type": "stream",
     "text": [
      "Fitting 5 folds for each of 24 candidates, totalling 120 fits\n",
      "Best Parameters: {'classifier__class_weight': 'balanced', 'classifier__max_depth': 10, 'classifier__min_samples_split': 5, 'classifier__n_estimators': 200}\n",
      "Best Cross-Validation AUC: 0.8468\n"
     ]
    }
   ],
   "source": [
    "param_grid = {\n",
    "    'classifier__n_estimators': [100, 200],\n",
    "    'classifier__max_depth': [10, 15, None],\n",
    "    'classifier__min_samples_split': [2, 5],\n",
    "    'classifier__class_weight': ['balanced', None]\n",
    "}\n",
    "grid = GridSearchCV(\n",
    "    rf_pipeline,           # your Random Forest pipeline\n",
    "    param_grid,\n",
    "    cv=5,                  # 5-fold cross-validation\n",
    "    scoring='roc_auc',     # optimize for AUC\n",
    "    n_jobs=-1,\n",
    "    verbose=1\n",
    ")\n",
    "grid.fit(x_train,y_train)\n",
    "print(\"Best Parameters:\", grid.best_params_)\n",
    "print(\"Best Cross-Validation AUC:\", grid.best_score_.round(4))"
   ]
  },
  {
   "cell_type": "code",
   "execution_count": 24,
   "metadata": {},
   "outputs": [
    {
     "name": "stdout",
     "output_type": "stream",
     "text": [
      "Final Model - Classification Report:\n",
      "              precision    recall  f1-score   support\n",
      "\n",
      "           0       0.88      0.79      0.83      1549\n",
      "           1       0.55      0.71      0.62       561\n",
      "\n",
      "    accuracy                           0.77      2110\n",
      "   macro avg       0.72      0.75      0.73      2110\n",
      "weighted avg       0.79      0.77      0.78      2110\n",
      "\n",
      "Final Test AUC: 0.8318\n"
     ]
    }
   ],
   "source": [
    "from sklearn.metrics import classification_report, roc_auc_score\n",
    "\n",
    "y_pred_best = grid.best_estimator_.predict(x_test)\n",
    "y_pred_proba_best = grid.best_estimator_.predict_proba(x_test)[:, 1]\n",
    "\n",
    "print(\"Final Model - Classification Report:\")\n",
    "print(classification_report(y_test, y_pred_best))\n",
    "\n",
    "print(f\"Final Test AUC: {roc_auc_score(y_test, y_pred_proba_best):.4f}\")"
   ]
  },
  {
   "cell_type": "code",
   "execution_count": 25,
   "metadata": {},
   "outputs": [
    {
     "name": "stdout",
     "output_type": "stream",
     "text": [
      "💾 Model saved!\n"
     ]
    }
   ],
   "source": [
    "import joblib\n",
    "joblib.dump(grid.best_estimator_, 'churn_prediction_pipeline.pkl')\n",
    "print(\"💾 Model saved!\")"
   ]
  }
 ],
 "metadata": {
  "kernelspec": {
   "display_name": "Python [conda env:base] *",
   "language": "python",
   "name": "conda-base-py"
  },
  "language_info": {
   "codemirror_mode": {
    "name": "ipython",
    "version": 3
   },
   "file_extension": ".py",
   "mimetype": "text/x-python",
   "name": "python",
   "nbconvert_exporter": "python",
   "pygments_lexer": "ipython3",
   "version": "3.12.7"
  }
 },
 "nbformat": 4,
 "nbformat_minor": 4
}
